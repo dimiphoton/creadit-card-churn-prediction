{
 "cells": [
  {
   "cell_type": "code",
   "execution_count": 3,
   "metadata": {},
   "outputs": [
    {
     "ename": "ModuleNotFoundError",
     "evalue": "No module named 'plotly'",
     "output_type": "error",
     "traceback": [
      "\u001b[1;31m---------------------------------------------------------------------------\u001b[0m",
      "\u001b[1;31mModuleNotFoundError\u001b[0m                       Traceback (most recent call last)",
      "\u001b[1;32m~\\AppData\\Local\\Temp\\ipykernel_21240\\3032578921.py\u001b[0m in \u001b[0;36m<module>\u001b[1;34m\u001b[0m\n\u001b[0;32m      3\u001b[0m \u001b[1;32mimport\u001b[0m \u001b[0mmatplotlib\u001b[0m\u001b[1;33m.\u001b[0m\u001b[0mpyplot\u001b[0m \u001b[1;32mas\u001b[0m \u001b[0mplt\u001b[0m\u001b[1;33m\u001b[0m\u001b[1;33m\u001b[0m\u001b[0m\n\u001b[0;32m      4\u001b[0m \u001b[1;32mimport\u001b[0m \u001b[0mseaborn\u001b[0m \u001b[1;32mas\u001b[0m \u001b[0msns\u001b[0m\u001b[1;33m\u001b[0m\u001b[1;33m\u001b[0m\u001b[0m\n\u001b[1;32m----> 5\u001b[1;33m \u001b[1;32mimport\u001b[0m \u001b[0mplotly\u001b[0m\u001b[1;33m.\u001b[0m\u001b[0mexpress\u001b[0m \u001b[1;32mas\u001b[0m \u001b[0mex\u001b[0m\u001b[1;33m\u001b[0m\u001b[1;33m\u001b[0m\u001b[0m\n\u001b[0m\u001b[0;32m      6\u001b[0m \u001b[1;32mimport\u001b[0m \u001b[0mplotly\u001b[0m\u001b[1;33m.\u001b[0m\u001b[0mgraph_objs\u001b[0m \u001b[1;32mas\u001b[0m \u001b[0mgo\u001b[0m\u001b[1;33m\u001b[0m\u001b[1;33m\u001b[0m\u001b[0m\n\u001b[0;32m      7\u001b[0m \u001b[1;32mimport\u001b[0m \u001b[0mplotly\u001b[0m\u001b[1;33m.\u001b[0m\u001b[0mfigure_factory\u001b[0m \u001b[1;32mas\u001b[0m \u001b[0mff\u001b[0m\u001b[1;33m\u001b[0m\u001b[1;33m\u001b[0m\u001b[0m\n",
      "\u001b[1;31mModuleNotFoundError\u001b[0m: No module named 'plotly'"
     ]
    }
   ],
   "source": [
    "import numpy as np # linear algebra\n",
    "import pandas as pd # data processing, CSV file I/O (e.g. pd.read_csv)\n",
    "import matplotlib.pyplot as plt\n",
    "import seaborn as sns\n",
    "import plotly.express as ex\n",
    "import plotly.graph_objs as go\n",
    "import plotly.figure_factory as ff\n",
    "from plotly.subplots import make_subplots\n",
    "import plotly.offline as pyo\n",
    "pyo.init_notebook_mode()\n",
    "sns.set_style('darkgrid')\n",
    "from sklearn.decomposition import PCA\n",
    "from sklearn.model_selection import train_test_split,cross_val_score\n",
    "from sklearn.ensemble import RandomForestClassifier,AdaBoostClassifier\n",
    "from sklearn.svm import SVC\n",
    "from sklearn.pipeline import Pipeline\n",
    "from sklearn.preprocessing import StandardScaler\n",
    "from sklearn.metrics import f1_score as f1\n",
    "from sklearn.metrics import confusion_matrix\n",
    "import scikitplot as skplt\n",
    "\n",
    "plt.rc('figure',figsize=(18,9))\n",
    "%pip install imbalanced-learn\n",
    "from imblearn.over_sampling import SMOTE"
   ]
  },
  {
   "cell_type": "code",
   "execution_count": 7,
   "metadata": {},
   "outputs": [],
   "source": [
    "import os\n",
    "import pandas as pd\n",
    "\n",
    "# Get the path to the directory containing this script\n",
    "script_dir = os.getcwd()\n",
    "\n",
    "# Get the parent directory of the script directory\n",
    "parent_dir = os.path.dirname(script_dir)\n",
    "\n",
    "# Get the parent directory of the parent directory\n",
    "grandparent_dir = os.path.dirname(parent_dir)\n",
    "\n",
    "# Define the path to the file relative to the current working directory\n",
    "file_path = os.path.join(grandparent_dir, 'data', 'raw_data', 'churn.csv')\n",
    "\n",
    "# Read the CSV file into a DataFrame\n",
    "df = pd.read_csv(file_path)\n",
    "\n",
    "# Print the first few rows of the DataFrame to verify that it was loaded correctly\n"
   ]
  },
  {
   "cell_type": "code",
   "execution_count": 14,
   "metadata": {},
   "outputs": [
    {
     "data": {
      "image/png": "[encoded data removed]",
      "text/plain": [
       "<Figure size 432x288 with 1 Axes>"
      ]
     },
     "metadata": {
      "needs_background": "light"
     },
     "output_type": "display_data"
    }
   ],
   "source": [
    "import matplotlib.pyplot as plt\n",
    "# Group the data by the 'Attrition_Flag' column and plot a histogram of 'Months_on_book' for each group\n",
    "df.groupby('Attrition_Flag')['Months_on_book'].hist(alpha=0.5, bins=20)\n",
    "\n",
    "# Set the plot title and axis labels\n",
    "plt.title('Histogram of Months on Book by Attrition Flag')\n",
    "plt.xlabel('Months on Book')\n",
    "plt.ylabel('Count')\n",
    "\n",
    "# Show the plot\n",
    "plt.show()"
   ]
  },
  {
   "attachments": {},
   "cell_type": "markdown",
   "metadata": {},
   "source": [
    "customer ages in our dataset follows a fairly normal distribution; thus, further use of the age feature can be done with the normality assumption."
   ]
  },
  {
   "cell_type": "code",
   "execution_count": null,
   "metadata": {},
   "outputs": [],
   "source": [
    "fig = make_subplots(rows=2, cols=1)\n",
    "\n",
    "tr1=go.Box(x=c_data['Customer_Age'],name='Age Box Plot',boxmean=True)\n",
    "tr2=go.Histogram(x=c_data['Customer_Age'],name='Age Histogram')\n",
    "\n",
    "fig.add_trace(tr1,row=1,col=1)\n",
    "fig.add_trace(tr2,row=2,col=1)\n",
    "\n",
    "fig.update_layout(height=700, width=1200, title_text=\"Distribution of Customer Ages\")\n",
    "fig.show()"
   ]
  },
  {
   "attachments": {},
   "cell_type": "markdown",
   "metadata": {},
   "source": [
    " we can say that genders are uniformly distributed."
   ]
  },
  {
   "cell_type": "code",
   "execution_count": null,
   "metadata": {},
   "outputs": [],
   "source": [
    "fig = make_subplots(\n",
    "    rows=2, cols=2,subplot_titles=('','<b>Platinum Card Holders','<b>Blue Card Holders<b>','Residuals'),\n",
    "    vertical_spacing=0.09,\n",
    "    specs=[[{\"type\": \"pie\",\"rowspan\": 2}       ,{\"type\": \"pie\"}] ,\n",
    "           [None                               ,{\"type\": \"pie\"}]            ,                                      \n",
    "          ]\n",
    ")\n",
    "\n",
    "fig.add_trace(\n",
    "    go.Pie(values=c_data.Gender.value_counts().values,labels=['<b>Female<b>','<b>Male<b>'],hole=0.3,pull=[0,0.3]),\n",
    "    row=1, col=1\n",
    ")\n",
    "\n",
    "fig.add_trace(\n",
    "    go.Pie(\n",
    "        labels=['Female Platinum Card Holders','Male Platinum Card Holders'],\n",
    "        values=c_data.query('Card_Category==\"Platinum\"').Gender.value_counts().values,\n",
    "        pull=[0,0.05,0.5],\n",
    "        hole=0.3\n",
    "        \n",
    "    ),\n",
    "    row=1, col=2\n",
    ")\n",
    "\n",
    "fig.add_trace(\n",
    "    go.Pie(\n",
    "        labels=['Female Blue Card Holders','Male Blue Card Holders'],\n",
    "        values=c_data.query('Card_Category==\"Blue\"').Gender.value_counts().values,\n",
    "        pull=[0,0.2,0.5],\n",
    "        hole=0.3\n",
    "    ),\n",
    "    row=2, col=2\n",
    ")\n",
    "\n",
    "\n",
    "\n",
    "fig.update_layout(\n",
    "    height=800,\n",
    "    showlegend=True,\n",
    "    title_text=\"<b>Distribution Of Gender And Different Card Statuses<b>\",\n",
    ")\n",
    "\n",
    "fig.show()  "
   ]
  },
  {
   "cell_type": "code",
   "execution_count": null,
   "metadata": {},
   "outputs": [],
   "source": [
    "# Defining plot design\n",
    "def plot_design():\n",
    "    plt.xlabel('')\n",
    "    plt.ylabel('')\n",
    "    plt.yticks(fontsize=13, color='black')\n",
    "    plt.box(False)\n",
    "    plt.title(i[1], fontsize=20, color='black')\n",
    "    plt.tight_layout(pad=5.0)\n",
    "    plt.grid(b=None)"
   ]
  },
  {
   "attachments": {},
   "cell_type": "markdown",
   "metadata": {},
   "source": [
    "EDA categorical variables"
   ]
  },
  {
   "cell_type": "code",
   "execution_count": null,
   "metadata": {},
   "outputs": [],
   "source": [
    "import matplotlib.pyplot as plt\n",
    "import seaborn as sns\n",
    "import matplotlib as mpl\n",
    "\n",
    "# Select categorical variables\n",
    "categ = df.select_dtypes(include=object).columns\n",
    "\n",
    "# Visualize\n",
    "fig, ax = plt.subplots(figsize =(20, 20))\n",
    "fig.patch.set_facecolor('white')\n",
    "mpl.rcParams['font.family'] = 'Hiragino Kaku Gothic Pro'\n",
    "mpl.rcParams['font.size'] = 12\n",
    "\n",
    "colors = sns.color_palette(\"crest_r\", n_colors=7).as_hex()\n",
    "\n",
    "# Loop columns\n",
    "for i in (enumerate(categ)):\n",
    "    plt.subplot(4, 2, i[0]+1)\n",
    "    \n",
    "    if df[i[1]].value_counts().count() > 2:\n",
    "        ax = sns.countplot(y = i[1], data = df, order=df[i[1]].value_counts().index, palette=colors)\n",
    "        pct = df[i[1]].value_counts(ascending=False, normalize=True).values * 100\n",
    "        ax.bar_label(container=ax.containers[0], labels=list(map('{:.2f}%'.format,pct)), padding=3, size=12, color='black')\n",
    "        ax.grid(False)\n",
    "        ax.grid(b=None)\n",
    "        ax.xaxis.set_ticks_position('none')\n",
    "        ax.yaxis.set_ticks_position('none')\n",
    "        ax.set_xticklabels('')\n",
    "        plot_design()\n",
    "\n",
    "    else:\n",
    "        _, texts, pcts = plt.pie(\n",
    "            df[i[1]].value_counts(), \n",
    "            labels=df[i[1]].value_counts().index, \n",
    "            colors= ['#00538F', '#6AADCC'],\n",
    "            autopct='%1.1f%%', \n",
    "            wedgeprops={'linewidth': 3.0, 'edgecolor': 'white'},\n",
    "            startangle=50)\n",
    "        for pcts in pcts:\n",
    "          pcts.set_color('white')\n",
    "        plt.title(i[1], fontsize=20, color='black')"
   ]
  },
  {
   "attachments": {},
   "cell_type": "markdown",
   "metadata": {},
   "source": [
    "Numerical variables"
   ]
  },
  {
   "cell_type": "code",
   "execution_count": null,
   "metadata": {},
   "outputs": [],
   "source": [
    "# Select numerical variables\n",
    "numeric = df.select_dtypes(exclude=object).columns\n",
    "\n",
    "# Visualize\n",
    "fig, ax = plt.subplots(figsize =(20, 35))\n",
    "fig.patch.set_facecolor('white')\n",
    "mpl.rcParams['font.family'] = 'Hiragino Kaku Gothic Pro'\n",
    "mpl.rcParams['font.size'] = 12\n",
    "\n",
    "colors = sns.color_palette(\"dark\", n_colors=14).as_hex()\n",
    "\n",
    "# Loop columns\n",
    "for i in (enumerate(numeric)):\n",
    "    plt.subplot(7, 2, i[0]+1)\n",
    "    sns.kdeplot(x = i[1], data = df, color=colors[i[0]], fill=True)\n",
    "    plt.grid(b=None)\n",
    "    plot_design()"
   ]
  },
  {
   "attachments": {},
   "cell_type": "markdown",
   "metadata": {},
   "source": [
    "Preprocessing: skew variables"
   ]
  },
  {
   "cell_type": "code",
   "execution_count": null,
   "metadata": {},
   "outputs": [],
   "source": [
    "skew_limit = 0.5\n",
    "skew_vals = df[numeric].skew()\n",
    "\n",
    "skew_cols = (skew_vals\n",
    "             .sort_values(ascending=False)\n",
    "             .to_frame()\n",
    "             .rename(columns={0:'Skew'})\n",
    "             .query('abs(Skew) > {0}'.format(skew_limit)))\n",
    "\n",
    "skew_cols"
   ]
  },
  {
   "cell_type": "code",
   "execution_count": null,
   "metadata": {},
   "outputs": [],
   "source": [
    "from scipy.special import boxcox1p\n",
    "from scipy.stats import boxcox_normmax\n",
    "\n",
    "# Normalize skewed features\n",
    "for col in skew_cols.index:\n",
    "    df[col] = boxcox1p(df[col], boxcox_normmax(df[col] + 1))"
   ]
  },
  {
   "attachments": {},
   "cell_type": "markdown",
   "metadata": {},
   "source": [
    "scaling features"
   ]
  },
  {
   "cell_type": "code",
   "execution_count": null,
   "metadata": {},
   "outputs": [],
   "source": [
    "# Scaling features\n",
    "from sklearn.preprocessing import MinMaxScaler\n",
    "\n",
    "for col in df[numeric]:\n",
    "    df[col] = MinMaxScaler().fit_transform(df[[col]])"
   ]
  },
  {
   "attachments": {},
   "cell_type": "markdown",
   "metadata": {},
   "source": [
    "encoding categorical features"
   ]
  },
  {
   "cell_type": "code",
   "execution_count": null,
   "metadata": {},
   "outputs": [],
   "source": [
    "# One hot encoding\n",
    "df['Attrition_Flag'] = df['Attrition_Flag'].map({'Existing Customer': 0, 'Attrited Customer': 1})\n",
    "df['Gender'] = df['Gender'].map({'M': 0, 'F': 1})\n",
    "\n",
    "# Select categorical variables\n",
    "categ = df.select_dtypes(include=object).columns\n",
    "\n",
    "# Encoding with get dummies\n",
    "df = pd.get_dummies(df, columns=categ)\n",
    "\n",
    "# Drop columns to avoid multicollinearity\n",
    "df= df[df.columns.drop(list(df.filter(regex='Unknown')))]\n",
    "df= df[df.columns.drop(list(df.filter(regex='Platinum')))]\n",
    "\n",
    "df.head()"
   ]
  },
  {
   "attachments": {},
   "cell_type": "markdown",
   "metadata": {},
   "source": [
    "Data Upsampling Using SMOTE Algorithm\n"
   ]
  },
  {
   "cell_type": "code",
   "execution_count": null,
   "metadata": {},
   "outputs": [],
   "source": [
    "# Split target & features\n",
    "X = df.drop('Attrition_Flag', axis=1)\n",
    "y = df['Attrition_Flag']"
   ]
  },
  {
   "cell_type": "code",
   "execution_count": null,
   "metadata": {},
   "outputs": [],
   "source": [
    "# Dealing with imbalanced dataset\n",
    "from imblearn.over_sampling import SMOTE\n",
    "\n",
    "# Upsampling with SMOTE algorithm\n",
    "smote = SMOTE(random_state=42)\n",
    "\n",
    "X_smote, y_smote = smote.fit_resample(X, y)\n",
    "\n",
    "print(f'''Shape of X before SMOTE: {X.shape}\n",
    "Shape of X after SMOTE: {X_smote.shape}''')\n",
    "\n",
    "print('\\nBalance of positive and negative classes (%):')\n",
    "y_smote.value_counts(normalize=True) * 100"
   ]
  },
  {
   "attachments": {},
   "cell_type": "markdown",
   "metadata": {},
   "source": [
    "Dimensionality Reduction\n"
   ]
  },
  {
   "cell_type": "code",
   "execution_count": null,
   "metadata": {},
   "outputs": [],
   "source": [
    "#Using elbow-plot variance/dimensions\n",
    "from sklearn.decomposition import PCA\n",
    "import matplotlib.ticker as mtick\n",
    "\n",
    "pca = PCA()\n",
    "pca.fit(X_smote)\n",
    "\n",
    "cumsum = np.cumsum(pca.explained_variance_ratio_)*100\n",
    "d = [n for n in range(len(cumsum))]\n",
    "\n",
    "# Visualize\n",
    "fig, ax = plt.subplots(figsize =(10, 10))\n",
    "fig.patch.set_facecolor('white')\n",
    "mpl.rcParams['font.family'] = 'Ubuntu'\n",
    "mpl.rcParams['font.size'] = 14\n",
    "\n",
    "ax.plot(d,cumsum, color = '#00538F', label='Cumulative Explained Variance')\n",
    "\n",
    "ax.axhline(y = 95, color='black', linestyle=':', label = '95% Explained Variance')\n",
    "ax.legend(loc='best')\n",
    "\n",
    "# Remove ticks\n",
    "ax.xaxis.set_ticks_position('none')\n",
    "ax.yaxis.set_ticks_position('none')\n",
    "\n",
    "# Remove axes splines\n",
    "for i in ['top','right']:\n",
    "    ax.spines[i].set_visible(False)\n",
    "\n",
    "# Set percentages\n",
    "ax.yaxis.set_major_formatter(mtick.PercentFormatter())\n",
    "\n",
    "# annotation arrow\n",
    "arrowprops = dict(arrowstyle=\"->\", connectionstyle=\"angle3,angleA=0,angleB=-90\")\n",
    "plt.annotate('Principal Component Number 19', \n",
    "             xy=(19, 95), \n",
    "             xytext=(19+5, 95+10), \n",
    "             arrowprops=arrowprops,\n",
    "             size = 14)\n",
    "\n",
    "plt.legend(bbox_to_anchor = (1, 0.2))\n",
    "\n",
    "plt.suptitle('Explained Variance vs Dimensions', size=26)\n",
    "plt.ylabel('Cumulative Explained Variance')\n",
    "plt.xlabel('PC');"
   ]
  },
  {
   "cell_type": "code",
   "execution_count": null,
   "metadata": {},
   "outputs": [],
   "source": [
    "pca = PCA(.95) \n",
    "pca.fit(X_smote)\n",
    "\n",
    "X_pca = pca.transform(X_smote)\n",
    "X_pca = pd.DataFrame(X_pca)\n",
    "\n",
    "print(f'''Shape of X before PCA: {X_smote.shape}\n",
    "Shape of X after PCA: {X_pca.shape}''')"
   ]
  },
  {
   "attachments": {},
   "cell_type": "markdown",
   "metadata": {},
   "source": [
    "Clustering: K-means"
   ]
  },
  {
   "cell_type": "code",
   "execution_count": null,
   "metadata": {},
   "outputs": [],
   "source": [
    "# Merge y and X\n",
    "data = pd.concat([y_smote, X_pca], axis=1)"
   ]
  },
  {
   "cell_type": "code",
   "execution_count": null,
   "metadata": {},
   "outputs": [],
   "source": [
    "# K-means \n",
    "from sklearn.cluster import KMeans\n",
    "\n",
    "km_list = list()\n",
    "\n",
    "for i in range(1,21):\n",
    "    km = KMeans(n_clusters=i, init='k-means++', max_iter=300, n_init=10, random_state=42)\n",
    "    km = km.fit(X_pca)\n",
    "    \n",
    "    km_list.append(pd.Series({'clusters': i, \n",
    "                              'inertia': km.inertia_,\n",
    "                              'model': km}))"
   ]
  },
  {
   "cell_type": "code",
   "execution_count": null,
   "metadata": {},
   "outputs": [],
   "source": [
    "k = pd.concat(km_list, axis=1).T[['clusters','inertia']]\n",
    "\n",
    "# Visualize\n",
    "fig, ax = plt.subplots(figsize =(12, 8))\n",
    "fig.patch.set_facecolor('white')\n",
    "mpl.rcParams['font.family'] = 'Ubuntu'\n",
    "mpl.rcParams['font.size'] = 14\n",
    "\n",
    "plt.plot(k['clusters'], k['inertia'], 'bo-', color = '#00538F')\n",
    "\n",
    "# Remove ticks\n",
    "ax.xaxis.set_ticks_position('none')\n",
    "ax.yaxis.set_ticks_position('none')\n",
    "\n",
    "# Remove axes splines\n",
    "for i in ['top','right']:\n",
    "    ax.spines[i].set_visible(False)\n",
    "\n",
    "ax.set_xticks(range(0,21,2))\n",
    "ax.set(xlabel='Cluster', ylabel='Inertia');\n",
    "\n",
    "plt.suptitle('The Elbow Method: Optimal Number of Clusters', size=26);"
   ]
  },
  {
   "cell_type": "code",
   "execution_count": null,
   "metadata": {},
   "outputs": [],
   "source": [
    "# K-Means\n",
    "km = KMeans(n_clusters=2, random_state=42)\n",
    "km = km.fit(X_pca)\n",
    "\n",
    "data_kmeans = data.copy()\n",
    "\n",
    "data_kmeans['kmeans'] = km.predict(X_pca)"
   ]
  },
  {
   "attachments": {},
   "cell_type": "markdown",
   "metadata": {},
   "source": [
    "hierarchical clustering"
   ]
  },
  {
   "cell_type": "code",
   "execution_count": null,
   "metadata": {},
   "outputs": [],
   "source": [
    "# Agglomerative\n",
    "from sklearn.cluster import AgglomerativeClustering\n",
    "\n",
    "ag = AgglomerativeClustering(n_clusters=2, linkage='complete', compute_full_tree=True)\n",
    "ag = ag.fit(X_pca)\n",
    "\n",
    "data_agglom = data.copy()\n",
    "\n",
    "data_agglom['agglom'] = ag.fit_predict(X_pca)"
   ]
  },
  {
   "attachments": {},
   "cell_type": "markdown",
   "metadata": {},
   "source": [
    "modelling with gradient boosting"
   ]
  },
  {
   "attachments": {},
   "cell_type": "markdown",
   "metadata": {},
   "source": [
    "baseline"
   ]
  },
  {
   "cell_type": "code",
   "execution_count": null,
   "metadata": {},
   "outputs": [],
   "source": [
    "from sklearn.model_selection import train_test_split\n",
    "\n",
    "X_train, X_test, y_train, y_test = train_test_split(X_pca, y_smote, test_size=0.3, random_state=42)\n",
    "\n",
    "from sklearn.ensemble import GradientBoostingClassifier\n",
    "from sklearn.metrics import accuracy_score, f1_score\n",
    "from sklearn.model_selection import GridSearchCV\n",
    "    \n",
    "# The parameters to be fit\n",
    "param_grid = {\n",
    "    'learning_rate': [0.1, 0.125, 0.5],\n",
    "    'n_estimators':[300, 400, 500], \n",
    "    'max_depth':[7, 9, 11]       \n",
    "     }\n",
    "\n",
    "# The grid search object\n",
    "GV_GBC = GridSearchCV(GradientBoostingClassifier(random_state=42), \n",
    "                      param_grid=param_grid, \n",
    "                      scoring='f1',\n",
    "                      cv = 3,\n",
    "                      verbose=0, \n",
    "                      n_jobs=-1)\n",
    "\n",
    "# Do the grid search\n",
    "GV_GBC = GV_GBC.fit(X_train, y_train)\n",
    "print(\"best score: \", GV_GBC.best_score_)\n",
    "print(\"best param: \", GV_GBC.best_params_)"
   ]
  },
  {
   "cell_type": "code",
   "execution_count": null,
   "metadata": {},
   "outputs": [],
   "source": [
    "best_params = GV_GBC.best_params_\n",
    "GB = GradientBoostingClassifier(random_state=42, **best_params)\n",
    "                            \n",
    "GB = GB.fit(X_train, y_train)\n",
    "y_pred = GB.predict(X_test)\n",
    "\n",
    "print('Accuracy score: ', round(accuracy_score(y_test, y_pred), 4))\n",
    "print('F1 Score: ', round(f1_score(y_test, y_pred), 4))"
   ]
  },
  {
   "attachments": {},
   "cell_type": "markdown",
   "metadata": {},
   "source": [
    "K-Means + Model"
   ]
  },
  {
   "cell_type": "code",
   "execution_count": null,
   "metadata": {},
   "outputs": [],
   "source": [
    "from sklearn.model_selection import train_test_split\n",
    "\n",
    "# Split target & features\n",
    "X_kmeans = data_kmeans.drop('Attrition_Flag', axis=1)\n",
    "y_kmeans = data_kmeans['Attrition_Flag']\n",
    "\n",
    "# Split the data into training and test samples\n",
    "X_train, X_test, y_train, y_test = train_test_split(X_kmeans, y_kmeans, test_size=0.3, random_state=42)"
   ]
  },
  {
   "cell_type": "code",
   "execution_count": null,
   "metadata": {},
   "outputs": [],
   "source": [
    "best_params = GV_GBC.best_params_\n",
    "GB = GradientBoostingClassifier(random_state=42, **best_params)\n",
    "                            \n",
    "GB = GB.fit(X_train, y_train)\n",
    "y_pred = GB.predict(X_test)\n",
    "\n",
    "print('Accuracy score: ', round(accuracy_score(y_test, y_pred), 4))\n",
    "print('F1 Score: ', round(f1_score(y_test, y_pred), 4))"
   ]
  },
  {
   "attachments": {},
   "cell_type": "markdown",
   "metadata": {},
   "source": [
    "experimentations"
   ]
  },
  {
   "attachments": {},
   "cell_type": "markdown",
   "metadata": {},
   "source": [
    "cluster=0"
   ]
  },
  {
   "cell_type": "code",
   "execution_count": 2,
   "metadata": {},
   "outputs": [
    {
     "ename": "NameError",
     "evalue": "name 'data_kmeans' is not defined",
     "output_type": "error",
     "traceback": [
      "\u001b[1;31m---------------------------------------------------------------------------\u001b[0m",
      "\u001b[1;31mNameError\u001b[0m                                 Traceback (most recent call last)",
      "\u001b[1;32m~\\AppData\\Local\\Temp\\ipykernel_21240\\832346736.py\u001b[0m in \u001b[0;36m<module>\u001b[1;34m\u001b[0m\n\u001b[0;32m      3\u001b[0m \u001b[1;33m\u001b[0m\u001b[0m\n\u001b[0;32m      4\u001b[0m \u001b[1;31m# Cluster 0\u001b[0m\u001b[1;33m\u001b[0m\u001b[1;33m\u001b[0m\u001b[1;33m\u001b[0m\u001b[0m\n\u001b[1;32m----> 5\u001b[1;33m \u001b[0mdata_kmeans0\u001b[0m \u001b[1;33m=\u001b[0m \u001b[0mdata_kmeans\u001b[0m\u001b[1;33m.\u001b[0m\u001b[0mloc\u001b[0m\u001b[1;33m[\u001b[0m\u001b[0mdata_kmeans\u001b[0m\u001b[1;33m[\u001b[0m\u001b[1;34m'kmeans'\u001b[0m\u001b[1;33m]\u001b[0m \u001b[1;33m==\u001b[0m \u001b[1;36m0\u001b[0m\u001b[1;33m]\u001b[0m\u001b[1;33m\u001b[0m\u001b[1;33m\u001b[0m\u001b[0m\n\u001b[0m\u001b[0;32m      6\u001b[0m \u001b[1;33m\u001b[0m\u001b[0m\n\u001b[0;32m      7\u001b[0m \u001b[1;31m# Split target & features\u001b[0m\u001b[1;33m\u001b[0m\u001b[1;33m\u001b[0m\u001b[1;33m\u001b[0m\u001b[0m\n",
      "\u001b[1;31mNameError\u001b[0m: name 'data_kmeans' is not defined"
     ]
    }
   ],
   "source": [
    "# Try prediction with kmeans = 0\n",
    "from sklearn.model_selection import train_test_split\n",
    "\n",
    "# Cluster 0\n",
    "data_kmeans0 = data_kmeans.loc[data_kmeans['kmeans'] == 0]\n",
    "\n",
    "# Split target & features\n",
    "X_kmeans = data_kmeans0.drop('Attrition_Flag', axis=1)\n",
    "y_kmeans = data_kmeans0['Attrition_Flag']\n",
    "\n",
    "# Split the data into training and test samples\n",
    "X_train, X_test, y_train, y_test = train_test_split(X_kmeans, y_kmeans, test_size=0.3, random_state=42)"
   ]
  },
  {
   "cell_type": "code",
   "execution_count": null,
   "metadata": {},
   "outputs": [],
   "source": [
    "best_params = GV_GBC.best_params_\n",
    "GB = GradientBoostingClassifier(random_state=42, **best_params)\n",
    "                            \n",
    "GB = GB.fit(X_train, y_train)\n",
    "y_pred = GB.predict(X_test)\n",
    "\n",
    "print('Accuracy score: ', round(accuracy_score(y_test, y_pred), 4))\n",
    "print('F1 Score: ', round(f1_score(y_test, y_pred), 4))"
   ]
  },
  {
   "attachments": {},
   "cell_type": "markdown",
   "metadata": {},
   "source": [
    "cluster=1"
   ]
  },
  {
   "cell_type": "code",
   "execution_count": null,
   "metadata": {},
   "outputs": [],
   "source": [
    "# Try prediction with kmeans = 1\n",
    "from sklearn.model_selection import train_test_split\n",
    "\n",
    "# Cluster 1\n",
    "data_kmeans1 = data_kmeans.loc[data_kmeans['kmeans'] == 1]\n",
    "\n",
    "# Split target & features\n",
    "X_kmeans = data_kmeans1.drop('Attrition_Flag', axis=1)\n",
    "y_kmeans = data_kmeans1['Attrition_Flag']\n",
    "\n",
    "# Split the data into training and test samples\n",
    "X_train, X_test, y_train, y_test = train_test_split(X_kmeans, y_kmeans, test_size=0.3, random_state=42)"
   ]
  },
  {
   "cell_type": "code",
   "execution_count": null,
   "metadata": {},
   "outputs": [],
   "source": [
    "best_params = GV_GBC.best_params_\n",
    "GB = GradientBoostingClassifier(random_state=42, **best_params)\n",
    "                            \n",
    "GB = GB.fit(X_train, y_train)\n",
    "y_pred = GB.predict(X_test)\n",
    "\n",
    "print('Accuracy score: ', round(accuracy_score(y_test, y_pred), 4))\n",
    "print('F1 Score: ', round(f1_score(y_test, y_pred), 4))"
   ]
  }
 ],
 "metadata": {
  "kernelspec": {
   "display_name": "base",
   "language": "python",
   "name": "python3"
  },
  "language_info": {
   "codemirror_mode": {
    "name": "ipython",
    "version": 3
   },
   "file_extension": ".py",
   "mimetype": "text/x-python",
   "name": "python",
   "nbconvert_exporter": "python",
   "pygments_lexer": "ipython3",
   "version": "3.9.5"
  },
  "orig_nbformat": 4,
  "vscode": {
   "interpreter": {
    "hash": "0624f98af00d020556da11b7dcf480d829e3dfc4b6794811a6e9634b5f7901fe"
   }
  }
 },
 "nbformat": 4,
 "nbformat_minor": 2
}
